{
 "cells": [
  {
   "cell_type": "markdown",
   "metadata": {},
   "source": [
    "### Initialize Different Types of Arrays."
   ]
  },
  {
   "cell_type": "code",
   "execution_count": 1,
   "metadata": {},
   "outputs": [],
   "source": [
    "import numpy as np"
   ]
  },
  {
   "cell_type": "code",
   "execution_count": 20,
   "metadata": {},
   "outputs": [
    {
     "name": "stdout",
     "output_type": "stream",
     "text": [
      "[0 0 0]\n",
      "\n",
      "\n",
      "[[0 0 0]\n",
      " [0 0 0]]\n"
     ]
    }
   ],
   "source": [
    "# All Zeros Matrix.\n",
    "\n",
    "# 1D\n",
    "aZ = np.zeros(3, dtype='int64')\n",
    "\n",
    "# 2D\n",
    "bZ = np.zeros([2,3], dtype='int64')\n",
    "\n",
    "print(aZ)\n",
    "print('\\n')\n",
    "print(bZ)"
   ]
  },
  {
   "cell_type": "code",
   "execution_count": 21,
   "metadata": {},
   "outputs": [
    {
     "name": "stdout",
     "output_type": "stream",
     "text": [
      "[1 1 1]\n",
      "\n",
      "\n",
      "[[1 1 1]\n",
      " [1 1 1]]\n"
     ]
    }
   ],
   "source": [
    "# All Zeros Matrix.\n",
    "\n",
    "# 1D\n",
    "aO = np.ones(3, dtype='int64')\n",
    "\n",
    "# 2D\n",
    "bO = np.ones([2,3], dtype='int64')\n",
    "\n",
    "print(aO)\n",
    "print('\\n')\n",
    "print(bO)"
   ]
  },
  {
   "cell_type": "code",
   "execution_count": 29,
   "metadata": {},
   "outputs": [
    {
     "data": {
      "text/plain": [
       "(array([78, 78]), array([[12, 12],\n",
       "        [12, 12],\n",
       "        [12, 12],\n",
       "        [12, 12],\n",
       "        [12, 12]]))"
      ]
     },
     "execution_count": 29,
     "metadata": {},
     "output_type": "execute_result"
    }
   ],
   "source": [
    "# Any Number Filled Matrix.\n",
    "\n",
    "#1D\n",
    "aA = np.full(2, 78)\n",
    "\n",
    "#2D\n",
    "bA = np.full([5,2], 12)\n",
    "\n",
    "aA, bA"
   ]
  },
  {
   "cell_type": "code",
   "execution_count": 44,
   "metadata": {},
   "outputs": [
    {
     "name": "stdout",
     "output_type": "stream",
     "text": [
      "[0.95166136 0.23958919 0.08136943]\n",
      "\n",
      "\n",
      "[[0.25120796 0.41856327]\n",
      " [0.05488726 0.71579904]]\n"
     ]
    }
   ],
   "source": [
    "# Random Number Filled Matrix.\n",
    "\n",
    "#1D\n",
    "aR = np.random.rand(3)\n",
    "\n",
    "#2D\n",
    "bR = np.random.rand(2,2)\n",
    "print(aR)\n",
    "print('\\n')\n",
    "print(bR)"
   ]
  },
  {
   "cell_type": "code",
   "execution_count": 54,
   "metadata": {},
   "outputs": [
    {
     "name": "stdout",
     "output_type": "stream",
     "text": [
      "[12 14]\n",
      "\n",
      "\n",
      "[[ 5 14]\n",
      " [ 3 10]]\n"
     ]
    }
   ],
   "source": [
    "# Random Integer Filled Matrix. (fromRange, toRange, shape)\n",
    "\n",
    "#1D\n",
    "aR = np.random.randint(1,15, 2)\n",
    "\n",
    "#2D\n",
    "bR = np.random.randint(1,15 ,[2,2])\n",
    "print(aR)\n",
    "print('\\n')\n",
    "print(bR)\n"
   ]
  },
  {
   "cell_type": "code",
   "execution_count": 57,
   "metadata": {},
   "outputs": [
    {
     "data": {
      "text/plain": [
       "array([[1, 0, 0],\n",
       "       [0, 1, 0],\n",
       "       [0, 0, 1]], dtype=int32)"
      ]
     },
     "execution_count": 57,
     "metadata": {},
     "output_type": "execute_result"
    }
   ],
   "source": [
    "# Identity Matrix\n",
    "id = np.identity(3, dtype='int32')\n",
    "id"
   ]
  },
  {
   "cell_type": "code",
   "execution_count": 68,
   "metadata": {},
   "outputs": [
    {
     "data": {
      "text/plain": [
       "array([[1, 2, 3],\n",
       "       [1, 2, 3],\n",
       "       [1, 2, 3]])"
      ]
     },
     "execution_count": 68,
     "metadata": {},
     "output_type": "execute_result"
    }
   ],
   "source": [
    "# Repeat Array.\n",
    "aR = np.array([[1,2,3]])\n",
    "aRP = np.repeat(aR, aR.size, axis=0)\n",
    "aRP"
   ]
  },
  {
   "cell_type": "code",
   "execution_count": 78,
   "metadata": {},
   "outputs": [
    {
     "data": {
      "text/plain": [
       "array([[1, 1, 1, 1, 1],\n",
       "       [1, 0, 0, 0, 1],\n",
       "       [1, 0, 9, 0, 1],\n",
       "       [1, 0, 0, 0, 1],\n",
       "       [1, 1, 1, 1, 1]], dtype=int32)"
      ]
     },
     "execution_count": 78,
     "metadata": {},
     "output_type": "execute_result"
    }
   ],
   "source": [
    "ar = np.ones([5, 5], dtype='int32')\n",
    "mid = np.zeros([3,3], dtype='int32')\n",
    "mid[1,1] = 9\n",
    "\n",
    "ar[1:4, 1:4] = mid\n",
    "ar\n"
   ]
  }
 ],
 "metadata": {
  "kernelspec": {
   "display_name": "Python 3",
   "language": "python",
   "name": "python3"
  },
  "language_info": {
   "codemirror_mode": {
    "name": "ipython",
    "version": 3
   },
   "file_extension": ".py",
   "mimetype": "text/x-python",
   "name": "python",
   "nbconvert_exporter": "python",
   "pygments_lexer": "ipython3",
   "version": "3.7.3"
  }
 },
 "nbformat": 4,
 "nbformat_minor": 2
}
