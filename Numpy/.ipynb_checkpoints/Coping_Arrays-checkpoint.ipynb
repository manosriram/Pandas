{
 "cells": [
  {
   "cell_type": "code",
   "execution_count": 2,
   "metadata": {},
   "outputs": [],
   "source": [
    "import numpy as np"
   ]
  },
  {
   "cell_type": "code",
   "execution_count": 12,
   "metadata": {},
   "outputs": [
    {
     "name": "stdout",
     "output_type": "stream",
     "text": [
      "[12313     2     3     4     5]\n",
      "\n",
      "\n",
      "[12313     2     3     4     5]\n"
     ]
    }
   ],
   "source": [
    "# Wrong Way.\n",
    "\n",
    "a1 = np.array([1,2,3,4,5])\n",
    "b1 = a1\n",
    "b1[0] = 12313\n",
    "print(a1) # a1[0]'s value is also changed as b1 is referencing a1.\n",
    "print('\\n')\n",
    "print(b1)"
   ]
  },
  {
   "cell_type": "code",
   "execution_count": 19,
   "metadata": {},
   "outputs": [
    {
     "name": "stdout",
     "output_type": "stream",
     "text": [
      "[1 2 3 4 4]\n",
      "\n",
      "\n",
      "[12313     2     3     4     4]\n"
     ]
    }
   ],
   "source": [
    "# Right Way.\n",
    "\n",
    "a2 = np.array([1,2,3,4,4])\n",
    "b2 = a2.copy()\n",
    "b2[0] = 12313\n",
    "print(a2) # a1[0]'s value is not changed as b1 is just copying a1.\n",
    "print('\\n')\n",
    "print(b2)"
   ]
  }
 ],
 "metadata": {
  "kernelspec": {
   "display_name": "Python 3",
   "language": "python",
   "name": "python3"
  },
  "language_info": {
   "codemirror_mode": {
    "name": "ipython",
    "version": 3
   },
   "file_extension": ".py",
   "mimetype": "text/x-python",
   "name": "python",
   "nbconvert_exporter": "python",
   "pygments_lexer": "ipython3",
   "version": "3.7.3"
  }
 },
 "nbformat": 4,
 "nbformat_minor": 2
}
